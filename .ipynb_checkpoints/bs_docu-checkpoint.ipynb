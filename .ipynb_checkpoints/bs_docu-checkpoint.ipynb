{
 "cells": [
  {
   "cell_type": "code",
   "execution_count": 1,
   "id": "69329397-248d-4aa6-9a7c-eb792fafc207",
   "metadata": {},
   "outputs": [],
   "source": [
    "from bs4 import BeautifulSoup"
   ]
  },
  {
   "cell_type": "code",
   "execution_count": 2,
   "id": "6dcb2f23-2a75-4c6b-9593-0a6d260264df",
   "metadata": {},
   "outputs": [],
   "source": []
  },
  {
   "cell_type": "code",
   "execution_count": 3,
   "id": "8c2e5420-3d23-4061-9ab3-9c386904f2b1",
   "metadata": {},
   "outputs": [
    {
     "data": {
      "text/plain": [
       "'INSERT FOOTER HERE'"
      ]
     },
     "execution_count": 3,
     "metadata": {},
     "output_type": "execute_result"
    }
   ],
   "source": [
    "doc.text"
   ]
  },
  {
   "cell_type": "code",
   "execution_count": 4,
   "id": "78433e2c-6416-4523-9ec9-fd5e3acf3620",
   "metadata": {},
   "outputs": [
    {
     "data": {
      "text/plain": [
       "'INSERT FOOTER HERE'"
      ]
     },
     "execution_count": 4,
     "metadata": {},
     "output_type": "execute_result"
    }
   ],
   "source": [
    "doc.find(text=\"INSERT FOOTER HERE\").replace_with(footer)"
   ]
  },
  {
   "cell_type": "code",
   "execution_count": 8,
   "id": "5f137bdb-14f1-4393-a0a2-7d2540e0bbf0",
   "metadata": {},
   "outputs": [],
   "source": [
    "#comment.. special type of navigable string\n",
    "markup = \"<b><!--Hey, buddy. Want to buy a used parser?--></b>\"\n",
    "soup = BeautifulSoup(markup, 'html.parser')\n",
    "comment = soup.b.string"
   ]
  },
  {
   "cell_type": "code",
   "execution_count": 7,
   "id": "b0a919e8-96c6-499c-824e-d0706700a365",
   "metadata": {},
   "outputs": [
    {
     "data": {
      "text/plain": [
       "'Hey, buddy. Want to buy a used parser?'"
      ]
     },
     "execution_count": 7,
     "metadata": {},
     "output_type": "execute_result"
    }
   ],
   "source": [
    "comment"
   ]
  },
  {
   "cell_type": "code",
   "execution_count": null,
   "id": "7516541c-4877-4717-840d-1de9c06b606f",
   "metadata": {},
   "outputs": [],
   "source": []
  },
  {
   "cell_type": "markdown",
   "id": "5e5ccaad-15fd-425c-82fb-ff4168796f24",
   "metadata": {},
   "source": [
    "## Navigating the tree"
   ]
  },
  {
   "cell_type": "markdown",
   "id": "4ae382c4-4c37-4665-b562-f18ddf16589f",
   "metadata": {},
   "source": [
    "### 1. Going Down"
   ]
  },
  {
   "cell_type": "code",
   "execution_count": 11,
   "id": "f2258214-5a73-4466-9881-0e6b317a1091",
   "metadata": {},
   "outputs": [],
   "source": [
    "html_doc = \"\"\"\n",
    "<html><head><title>The Dormouse's story</title></head>\n",
    "<body>\n",
    "<p class=\"title\"><b>The Dormouse's story</b></p>\n",
    "\n",
    "<p class=\"story\">Once upon a time there were three little sisters; and their names were\n",
    "<a href=\"http://example.com/elsie\" class=\"sister\" id=\"link1\">Elsie</a>,\n",
    "<a href=\"http://example.com/lacie\" class=\"sister\" id=\"link2\">Lacie</a> and\n",
    "<a href=\"http://example.com/tillie\" class=\"sister\" id=\"link3\">Tillie</a>;\n",
    "and they lived at the bottom of a well.</p>\n",
    "\n",
    "<p class=\"story\">...</p>\n",
    "\"\"\"\n",
    "\n",
    "from bs4 import BeautifulSoup\n",
    "soup = BeautifulSoup(html_doc, 'html.parser')"
   ]
  },
  {
   "cell_type": "code",
   "execution_count": 23,
   "id": "9ac9d864-b3f6-492f-acfa-ed9abf5817bc",
   "metadata": {},
   "outputs": [
    {
     "data": {
      "text/plain": [
       "<head><title>The Dormouse's story</title></head>"
      ]
     },
     "execution_count": 23,
     "metadata": {},
     "output_type": "execute_result"
    }
   ],
   "source": [
    "#prints the head tag\n",
    "soup.head"
   ]
  },
  {
   "cell_type": "code",
   "execution_count": 37,
   "id": "1b4789a0-36a6-4e4f-8880-8f812021c176",
   "metadata": {},
   "outputs": [
    {
     "data": {
      "text/plain": [
       "<title>The Dormouse's story</title>"
      ]
     },
     "execution_count": 37,
     "metadata": {},
     "output_type": "execute_result"
    }
   ],
   "source": [
    "#prints the title tag inside head tag\n",
    "soup.head.title  #or you can also do soup.title which finds the first title tag in the soup object"
   ]
  },
  {
   "cell_type": "code",
   "execution_count": 38,
   "id": "7764a106-9dae-4cf5-ad33-99e840f24d66",
   "metadata": {},
   "outputs": [
    {
     "data": {
      "text/plain": [
       "<p class=\"title\"><b>The Dormouse's story</b></p>"
      ]
     },
     "execution_count": 38,
     "metadata": {},
     "output_type": "execute_result"
    }
   ],
   "source": [
    "#prints the first p tag\n",
    "soup.p"
   ]
  },
  {
   "cell_type": "markdown",
   "id": "2d3aba98-94bd-4853-b0b7-6f9c44954a77",
   "metadata": {},
   "source": [
    "### Nested \n"
   ]
  },
  {
   "cell_type": "code",
   "execution_count": 39,
   "id": "956aef98-c625-4b73-adca-df962db04b7a",
   "metadata": {},
   "outputs": [
    {
     "data": {
      "text/plain": [
       "<b>The Dormouse's story</b>"
      ]
     },
     "execution_count": 39,
     "metadata": {},
     "output_type": "execute_result"
    }
   ],
   "source": [
    "#b tag inside the body tag\n",
    "soup.body.b"
   ]
  },
  {
   "cell_type": "code",
   "execution_count": 35,
   "id": "3c6cb71e-40af-474a-9d20-3f4969a01337",
   "metadata": {},
   "outputs": [
    {
     "data": {
      "text/plain": [
       "[<a class=\"sister\" href=\"http://example.com/elsie\" id=\"link1\">Elsie</a>,\n",
       " <a class=\"sister\" href=\"http://example.com/lacie\" id=\"link2\">Lacie</a>,\n",
       " <a class=\"sister\" href=\"http://example.com/tillie\" id=\"link3\">Tillie</a>]"
      ]
     },
     "execution_count": 35,
     "metadata": {},
     "output_type": "execute_result"
    }
   ],
   "source": [
    "#as these tags only return the first tag with the specified tagname\n",
    "#you can use find_all() to find all the tags with that tagname\n",
    "soup.find_all('a')"
   ]
  },
  {
   "cell_type": "markdown",
   "id": "1318987e-b804-482b-a52f-0173d04eea3d",
   "metadata": {},
   "source": [
    "### Tags contents and children\n"
   ]
  },
  {
   "cell_type": "code",
   "execution_count": 40,
   "id": "8254ce6d-9425-4186-bfc8-2b4f20c2f815",
   "metadata": {},
   "outputs": [],
   "source": [
    "# .contents and .children"
   ]
  },
  {
   "cell_type": "code",
   "execution_count": 58,
   "id": "d2b0efd8-8ad2-4810-a0cb-4570aba8e166",
   "metadata": {},
   "outputs": [
    {
     "data": {
      "text/plain": [
       "<p class=\"title\"><b>The Dormouse's story</b></p>"
      ]
     },
     "execution_count": 58,
     "metadata": {},
     "output_type": "execute_result"
    }
   ],
   "source": [
    "#tag's children are available in a list called .contents\n",
    "body_tag = soup.body\n",
    "body_tag.contents[1]"
   ]
  },
  {
   "cell_type": "code",
   "execution_count": 59,
   "id": "aabe9fb7-0c03-448d-aba8-30d7e064be2b",
   "metadata": {},
   "outputs": [
    {
     "data": {
      "text/plain": [
       "'p'"
      ]
     },
     "execution_count": 59,
     "metadata": {},
     "output_type": "execute_result"
    }
   ],
   "source": [
    "# you can also get the name of the tag with .name method\n",
    "body_tag.contents[3].name"
   ]
  },
  {
   "cell_type": "code",
   "execution_count": 64,
   "id": "27c5dd89-9461-4706-bc29-dfc27f99d1df",
   "metadata": {},
   "outputs": [
    {
     "name": "stdout",
     "output_type": "stream",
     "text": [
      "\n",
      "\n",
      "The Dormouse's story\n",
      "\n",
      "\n",
      "Once upon a time there were three little sisters; and their names were\n",
      "Elsie,\n",
      "Lacie and\n",
      "Tillie;\n",
      "and they lived at the bottom of a well.\n",
      "\n",
      "\n",
      "...\n",
      "\n",
      "\n"
     ]
    }
   ],
   "source": [
    "# or you can access the children by looping through them with .children\n",
    "for child in body_tag.children:\n",
    "    print(child.text)"
   ]
  },
  {
   "cell_type": "code",
   "execution_count": 66,
   "id": "381aec30-c1a4-4d21-81e5-9df45a78ee61",
   "metadata": {},
   "outputs": [
    {
     "name": "stdout",
     "output_type": "stream",
     "text": [
      "<title>The Dormouse's story</title>\n"
     ]
    }
   ],
   "source": [
    "# .descendents lets you access all the tag's children, their children and so on\n",
    "head_tag = soup.head\n",
    "for child in head_tag.children:\n",
    "    print(child)\n",
    "\n",
    "#we can see that it only accessed the direct child of head that is the title tag"
   ]
  },
  {
   "cell_type": "code",
   "execution_count": 68,
   "id": "f7702714-e5b4-4dce-811e-974b756ea8f2",
   "metadata": {},
   "outputs": [
    {
     "name": "stdout",
     "output_type": "stream",
     "text": [
      "<title>The Dormouse's story</title>\n",
      "The Dormouse's story\n"
     ]
    }
   ],
   "source": [
    "for child in head_tag.descendants:\n",
    "    print(child)\n",
    "\n",
    "# we can see that it accessed all the child of head i.e title, and title's child"
   ]
  },
  {
   "cell_type": "code",
   "execution_count": 73,
   "id": "120bd3f2-637d-43d4-bf03-a05158485285",
   "metadata": {},
   "outputs": [
    {
     "data": {
      "text/plain": [
       "2"
      ]
     },
     "execution_count": 73,
     "metadata": {},
     "output_type": "execute_result"
    }
   ],
   "source": [
    "len(list(soup.children))   #direct child of soup.. one generation"
   ]
  },
  {
   "cell_type": "code",
   "execution_count": 74,
   "id": "ff268517-3aec-4bf0-8ee6-bd03e24ef002",
   "metadata": {},
   "outputs": [
    {
     "data": {
      "text/plain": [
       "27"
      ]
     },
     "execution_count": 74,
     "metadata": {},
     "output_type": "execute_result"
    }
   ],
   "source": [
    "len(list(soup.descendants))     #all children of soup..multiple generations"
   ]
  },
  {
   "cell_type": "code",
   "execution_count": 78,
   "id": "b7bd8613-20e7-4137-9a73-dea5e7669b68",
   "metadata": {},
   "outputs": [
    {
     "data": {
      "text/plain": [
       "\"The Dormouse's story\""
      ]
     },
     "execution_count": 78,
     "metadata": {},
     "output_type": "execute_result"
    }
   ],
   "source": [
    "# if tag contains only navigablestring or only one tag that contains string, \n",
    "# it's content can be accessed by using the .string\n",
    "head_tag.string"
   ]
  },
  {
   "cell_type": "code",
   "execution_count": 80,
   "id": "1e345439-e69a-4484-885d-8435ed3bb1e4",
   "metadata": {},
   "outputs": [
    {
     "name": "stdout",
     "output_type": "stream",
     "text": [
      "None\n"
     ]
    }
   ],
   "source": [
    "# but if a tag contains multiple tags then it is not clear which string to return so .string\n",
    "# returns None\n",
    "print(body_tag.string)"
   ]
  },
  {
   "cell_type": "code",
   "execution_count": 88,
   "id": "0b95bc25-cc37-43b3-8b1e-ac9b6adbc092",
   "metadata": {},
   "outputs": [
    {
     "name": "stdout",
     "output_type": "stream",
     "text": [
      "The Dormouse's story\n",
      "Once upon a time there were three little sisters; and their names were\n",
      "Elsie\n",
      ",\n",
      "Lacie\n",
      "and\n",
      "Tillie\n",
      ";\n",
      "and they lived at the bottom of a well.\n",
      "...\n"
     ]
    }
   ],
   "source": [
    "# you can still access the string with .strings\n",
    "#for string in body_tag.strings:\n",
    "    #print(repr(string))\n",
    "#or we can use .stripped_strings to remove extra whitespace\n",
    "for string in body_tag.stripped_strings:\n",
    "    print(string)"
   ]
  },
  {
   "cell_type": "markdown",
   "id": "1c84e523-9e1e-4e1b-8214-f012c866df4c",
   "metadata": {},
   "source": [
    "### 2. Going Up"
   ]
  },
  {
   "cell_type": "code",
   "execution_count": 94,
   "id": "3286a489-669b-4fbe-9bc7-cbb7d25cb2c7",
   "metadata": {},
   "outputs": [
    {
     "data": {
      "text/plain": [
       "<title>The Dormouse's story</title>"
      ]
     },
     "execution_count": 94,
     "metadata": {},
     "output_type": "execute_result"
    }
   ],
   "source": [
    "# .parent\n",
    "title_tag = soup.title\n",
    "title_tag"
   ]
  },
  {
   "cell_type": "code",
   "execution_count": 95,
   "id": "2aab5ea5-cfac-4b63-9948-5fe19e7d133a",
   "metadata": {},
   "outputs": [
    {
     "data": {
      "text/plain": [
       "<head><title>The Dormouse's story</title></head>"
      ]
     },
     "execution_count": 95,
     "metadata": {},
     "output_type": "execute_result"
    }
   ],
   "source": [
    "title_tag.parent"
   ]
  },
  {
   "cell_type": "code",
   "execution_count": 98,
   "id": "9ce7e6b6-19e4-4e31-ab6a-15eb9fd6ebee",
   "metadata": {},
   "outputs": [
    {
     "data": {
      "text/plain": [
       "<title>The Dormouse's story</title>"
      ]
     },
     "execution_count": 98,
     "metadata": {},
     "output_type": "execute_result"
    }
   ],
   "source": [
    "title_tag.string.parent #this equals tdirectly accessing the element"
   ]
  },
  {
   "cell_type": "code",
   "execution_count": 111,
   "id": "2c891733-63c1-497e-8f05-b43c70fc31ea",
   "metadata": {},
   "outputs": [
    {
     "name": "stdout",
     "output_type": "stream",
     "text": [
      "head\n",
      "html\n",
      "[document]\n"
     ]
    }
   ],
   "source": [
    "# .parents helps to iterate over all the parent elements\n",
    "for parent in title_tag.parents:\n",
    "    print(parent.name)"
   ]
  },
  {
   "cell_type": "markdown",
   "id": "82e8ba42-27cc-4667-86bd-42a2a37cbdad",
   "metadata": {},
   "source": [
    "### 3.Going Sideways"
   ]
  },
  {
   "cell_type": "code",
   "execution_count": 114,
   "id": "3b114dd4-5166-428c-aae0-82c74010884a",
   "metadata": {},
   "outputs": [
    {
     "name": "stdout",
     "output_type": "stream",
     "text": [
      "<a><b>text1</b><c>text2</c></a>\n"
     ]
    }
   ],
   "source": [
    "#siblings are the tags which have same direct parent and are on same level\n",
    "sibling_soup = BeautifulSoup(\"<a><b>text1</b><c>text2</c></a>\", 'html.parser')\n",
    "print(sibling_soup)\n",
    "#b and c tags are siblings"
   ]
  },
  {
   "cell_type": "code",
   "execution_count": 115,
   "id": "f5e7df2b-3346-43ff-945a-81cb5f0b526d",
   "metadata": {},
   "outputs": [
    {
     "data": {
      "text/plain": [
       "<c>text2</c>"
      ]
     },
     "execution_count": 115,
     "metadata": {},
     "output_type": "execute_result"
    }
   ],
   "source": [
    "#. next_sibling and .previous_sibling\n",
    "sibling_soup.b.next_sibling"
   ]
  },
  {
   "cell_type": "code",
   "execution_count": 116,
   "id": "8599b4bf-8f69-4184-abef-f280783ef298",
   "metadata": {},
   "outputs": [
    {
     "data": {
      "text/plain": [
       "<b>text1</b>"
      ]
     },
     "execution_count": 116,
     "metadata": {},
     "output_type": "execute_result"
    }
   ],
   "source": [
    "sibling_soup.c.previous_sibling"
   ]
  },
  {
   "cell_type": "code",
   "execution_count": 118,
   "id": "c6081ae1-035c-4d69-9ea4-2faff25b0cf1",
   "metadata": {},
   "outputs": [
    {
     "data": {
      "text/plain": [
       "<a class=\"sister\" href=\"http://example.com/tillie\" id=\"link3\">Tillie</a>"
      ]
     },
     "execution_count": 118,
     "metadata": {},
     "output_type": "execute_result"
    }
   ],
   "source": [
    "#. next_siblings and .previous_siblings\n",
    "last_a_tag = soup.find('a', id='link3')\n",
    "last_a_tag"
   ]
  },
  {
   "cell_type": "code",
   "execution_count": 132,
   "id": "ca083074-10f4-4cc9-b7fe-9ea9deb0526e",
   "metadata": {},
   "outputs": [
    {
     "data": {
      "text/plain": [
       "';\\nand they lived at the bottom of a well.'"
      ]
     },
     "execution_count": 132,
     "metadata": {},
     "output_type": "execute_result"
    }
   ],
   "source": [
    "last_a_tag.next_sibling   #this is the next sibling of a within the parent of tag a"
   ]
  },
  {
   "cell_type": "code",
   "execution_count": 133,
   "id": "0a86091b-8e1e-417f-81ac-ac4c3a8cfae1",
   "metadata": {},
   "outputs": [
    {
     "data": {
      "text/plain": [
       "'Tillie'"
      ]
     },
     "execution_count": 133,
     "metadata": {},
     "output_type": "execute_result"
    }
   ],
   "source": [
    "last_a_tag.next_element   #next element of the starting a tag... <a>something</a>... tag is the opeining a, something and closing a... \n",
    "#next element is the immediate content after the opening a tag"
   ]
  },
  {
   "cell_type": "markdown",
   "id": "be016bfa-0861-415a-98bf-13e25d42d64b",
   "metadata": {},
   "source": []
  },
  {
   "cell_type": "markdown",
   "id": "5008d859-06f8-417e-8566-45b51461c1dc",
   "metadata": {},
   "source": [
    "## Searching the Tree"
   ]
  },
  {
   "cell_type": "code",
   "execution_count": 138,
   "id": "55918d4c-51db-454e-aa7c-3e0235a07c74",
   "metadata": {},
   "outputs": [
    {
     "name": "stdout",
     "output_type": "stream",
     "text": [
      "Elsie\n",
      "Lacie\n",
      "Tillie\n"
     ]
    }
   ],
   "source": [
    "# methods like find and find_all take filters as arguments\n",
    "# 1. String\n",
    "for tag in soup.find_all('a'):\n",
    "    print(tag.string)"
   ]
  },
  {
   "cell_type": "code",
   "execution_count": 144,
   "id": "724a0955-f52b-42ec-a43f-e8d24265c114",
   "metadata": {},
   "outputs": [
    {
     "name": "stdout",
     "output_type": "stream",
     "text": [
      "<title>The Dormouse's story</title>\n"
     ]
    }
   ],
   "source": [
    "#2. Regular expression\n",
    "import re\n",
    "\n",
    "for tag in soup.find_all(re.compile('^ti')):\n",
    "    print(tag)\n",
    "#print all tags that start with ti"
   ]
  },
  {
   "cell_type": "code",
   "execution_count": 145,
   "id": "b88581e0-6153-424c-8020-323717b8b81e",
   "metadata": {},
   "outputs": [
    {
     "data": {
      "text/plain": [
       "[<b>The Dormouse's story</b>,\n",
       " <a class=\"sister\" href=\"http://example.com/elsie\" id=\"link1\">Elsie</a>,\n",
       " <a class=\"sister\" href=\"http://example.com/lacie\" id=\"link2\">Lacie</a>,\n",
       " <a class=\"sister\" href=\"http://example.com/tillie\" id=\"link3\">Tillie</a>]"
      ]
     },
     "execution_count": 145,
     "metadata": {},
     "output_type": "execute_result"
    }
   ],
   "source": [
    "# 3. A list\n",
    "soup.find_all(['a', 'b'])"
   ]
  },
  {
   "cell_type": "code",
   "execution_count": 157,
   "id": "e70362ff-f9c1-42b0-a429-0f81c7d5dee4",
   "metadata": {},
   "outputs": [],
   "source": [
    "#find_all(name, attrs, recursive, string, limit, **kwargs)"
   ]
  },
  {
   "cell_type": "code",
   "execution_count": 163,
   "id": "3260c59d-b471-4e80-818a-0e97982a1364",
   "metadata": {},
   "outputs": [
    {
     "data": {
      "text/plain": [
       "[<a class=\"sister\" href=\"http://example.com/elsie\" id=\"link1\">Elsie</a>,\n",
       " <a class=\"sister\" href=\"http://example.com/lacie\" id=\"link2\">Lacie</a>,\n",
       " <a class=\"sister\" href=\"http://example.com/tillie\" id=\"link3\">Tillie</a>]"
      ]
     },
     "execution_count": 163,
     "metadata": {},
     "output_type": "execute_result"
    }
   ],
   "source": [
    "soup.find_all('a', class_='sister')  #a=name, sister=class"
   ]
  },
  {
   "cell_type": "code",
   "execution_count": 164,
   "id": "6cb860df-fa5f-4df8-bb4c-6d3209a48730",
   "metadata": {},
   "outputs": [
    {
     "data": {
      "text/plain": [
       "['Once upon a time there were three little sisters; and their names were\\n']"
      ]
     },
     "execution_count": 164,
     "metadata": {},
     "output_type": "execute_result"
    }
   ],
   "source": [
    "import re\n",
    "soup.find_all(string=re.compile('sisters'))"
   ]
  },
  {
   "cell_type": "code",
   "execution_count": 165,
   "id": "0446ccff-23ad-444e-a052-61bf3fdcb972",
   "metadata": {},
   "outputs": [
    {
     "data": {
      "text/plain": [
       "[\"The Dormouse's story\", \"The Dormouse's story\"]"
      ]
     },
     "execution_count": 165,
     "metadata": {},
     "output_type": "execute_result"
    }
   ],
   "source": [
    "soup.find_all(string=\"The Dormouse's story\")"
   ]
  },
  {
   "cell_type": "code",
   "execution_count": 166,
   "id": "da51e13d-7fb1-4bbb-a88b-cde9ebf3f96a",
   "metadata": {},
   "outputs": [
    {
     "data": {
      "text/plain": [
       "[<a class=\"sister\" href=\"http://example.com/tillie\" id=\"link3\">Tillie</a>]"
      ]
     },
     "execution_count": 166,
     "metadata": {},
     "output_type": "execute_result"
    }
   ],
   "source": [
    "soup.find_all(attrs={'id': 'link3'})"
   ]
  },
  {
   "cell_type": "code",
   "execution_count": 173,
   "id": "d833f6e7-28d4-4389-be4d-f360eb113d6a",
   "metadata": {},
   "outputs": [
    {
     "data": {
      "text/plain": [
       "[<a class=\"sister\" href=\"http://example.com/elsie\" id=\"link1\">Elsie</a>,\n",
       " <a class=\"sister\" href=\"http://example.com/lacie\" id=\"link2\">Lacie</a>,\n",
       " <a class=\"sister\" href=\"http://example.com/tillie\" id=\"link3\">Tillie</a>]"
      ]
     },
     "execution_count": 173,
     "metadata": {},
     "output_type": "execute_result"
    }
   ],
   "source": [
    "#searching by css class\n",
    "soup.find_all( 'a', class_='sister')"
   ]
  },
  {
   "cell_type": "code",
   "execution_count": 170,
   "id": "4ed9f140-4050-4717-a620-727096c5c4a0",
   "metadata": {},
   "outputs": [],
   "source": [
    "# find_parents() and find_parent()\n",
    "a_string = soup.find( string='Lacie')"
   ]
  },
  {
   "cell_type": "code",
   "execution_count": 187,
   "id": "27024c30-fca6-4f66-9c12-7f4d93433be8",
   "metadata": {},
   "outputs": [
    {
     "data": {
      "text/plain": [
       "<p class=\"story\">Once upon a time there were three little sisters; and their names were\n",
       "<a class=\"sister\" href=\"http://example.com/elsie\" id=\"link1\">Elsie</a>,\n",
       "<a class=\"sister\" href=\"http://example.com/lacie\" id=\"link2\">Lacie</a> and\n",
       "<a class=\"sister\" href=\"http://example.com/tillie\" id=\"link3\">Tillie</a>;\n",
       "and they lived at the bottom of a well.</p>"
      ]
     },
     "execution_count": 187,
     "metadata": {},
     "output_type": "execute_result"
    }
   ],
   "source": [
    "a_string.find_parent('p', class_='story')"
   ]
  },
  {
   "cell_type": "code",
   "execution_count": null,
   "id": "e632799f-6a7b-4390-83dd-e7c50131d362",
   "metadata": {},
   "outputs": [],
   "source": []
  },
  {
   "cell_type": "code",
   "execution_count": 188,
   "id": "50a0a849-0d24-4bd8-8b61-b0a2034c11a6",
   "metadata": {},
   "outputs": [],
   "source": [
    "# insert_before() and insert_after()"
   ]
  },
  {
   "cell_type": "code",
   "execution_count": 191,
   "id": "4509cd33-c0bd-4a9f-a8d8-7a597aed684f",
   "metadata": {},
   "outputs": [
    {
     "data": {
      "text/plain": [
       "<b><i>Don't</i>leave</b>"
      ]
     },
     "execution_count": 191,
     "metadata": {},
     "output_type": "execute_result"
    }
   ],
   "source": [
    "soup = BeautifulSoup(\"<b>leave</b>\", 'html.parser')\n",
    "tag = soup.new_tag(\"i\")\n",
    "tag.string = \"Don't\"\n",
    "soup.b.string.insert_before(tag)\n",
    "soup.b"
   ]
  },
  {
   "cell_type": "code",
   "execution_count": 192,
   "id": "ff19e716-72a5-4ea2-ad9f-57481323c2d9",
   "metadata": {},
   "outputs": [],
   "source": [
    "#deleting a tag from the tree\n",
    "# tag.decompose()"
   ]
  },
  {
   "cell_type": "code",
   "execution_count": 194,
   "id": "33b0f1cc-7652-4a4c-9171-7d9aaf421588",
   "metadata": {},
   "outputs": [
    {
     "data": {
      "text/plain": [
       "<a href=\"http://example.com/\">I linked to </a>"
      ]
     },
     "execution_count": 194,
     "metadata": {},
     "output_type": "execute_result"
    }
   ],
   "source": [
    "markup = '<a href=\"http://example.com/\">I linked to <i>example.com</i></a>'\n",
    "soup = BeautifulSoup(markup, 'html.parser')\n",
    "a_tag = soup.a\n",
    "i_tag = soup.i\n",
    "\n",
    "i_tag.decompose()\n",
    "soup"
   ]
  },
  {
   "cell_type": "code",
   "execution_count": 204,
   "id": "bb6b4e3f-ced9-4322-8c17-6e101613ff0d",
   "metadata": {},
   "outputs": [
    {
     "data": {
      "text/plain": [
       "<a href=\"http://example.com/\">I linked to <b>new string</b></a>"
      ]
     },
     "execution_count": 204,
     "metadata": {},
     "output_type": "execute_result"
    }
   ],
   "source": [
    "markup = '<a href=\"http://example.com/\">I linked to <i>example.com</i></a>'\n",
    "soup = BeautifulSoup(markup, 'html.parser')\n",
    "newTag = soup.new_tag('b')\n",
    "newTag.string = \"new string\"\n",
    "\n",
    "a_tag = soup.a\n",
    "i_tag = soup.i\n",
    "\n",
    "a_tag.i.replace_with(newTag)\n",
    "soup"
   ]
  },
  {
   "cell_type": "code",
   "execution_count": null,
   "id": "06aef374-6bc2-4564-aeaf-9d654588d6a6",
   "metadata": {},
   "outputs": [],
   "source": []
  },
  {
   "cell_type": "markdown",
   "id": "d328589c-2db6-4485-8bb5-edf0f5990c01",
   "metadata": {},
   "source": [
    "### Prettify"
   ]
  },
  {
   "cell_type": "code",
   "execution_count": 206,
   "id": "62128b28-d0f6-4e4b-80ef-8aaf77be0018",
   "metadata": {},
   "outputs": [
    {
     "name": "stdout",
     "output_type": "stream",
     "text": [
      "<html>\n",
      " <head>\n",
      "  <body>\n",
      "   <a href=\"http://example.com/\">\n",
      "    I linked to\n",
      "    <i>\n",
      "     example.com\n",
      "    </i>\n",
      "   </a>\n",
      "  </body>\n",
      " </head>\n",
      "</html>\n"
     ]
    }
   ],
   "source": [
    "markup = '<html><head><body><a href=\"http://example.com/\">I linked to <i>example.com</i></a>'\n",
    "soup = BeautifulSoup(markup, 'html.parser')\n",
    "print(soup.prettify())"
   ]
  },
  {
   "cell_type": "markdown",
   "id": "915d7756-c27d-4c77-9915-1605e8f0ee8c",
   "metadata": {},
   "source": [
    "### Line Number "
   ]
  },
  {
   "cell_type": "code",
   "execution_count": 207,
   "id": "26e2d249-6b0a-4a24-92b9-035a6e0c3669",
   "metadata": {},
   "outputs": [],
   "source": [
    "#keeping track of where each tag belongs to which line"
   ]
  },
  {
   "cell_type": "code",
   "execution_count": 209,
   "id": "429a59b0-2104-44a9-8c75-de0500aa0538",
   "metadata": {},
   "outputs": [
    {
     "name": "stdout",
     "output_type": "stream",
     "text": [
      "1 0 Paragraph 1\n",
      "3 4 Paragraph 2\n"
     ]
    }
   ],
   "source": [
    "markup = \"<p\\n>Paragraph 1</p>\\n    <p>Paragraph 2</p>\"\n",
    "soup = BeautifulSoup(markup, 'html.parser')\n",
    "for tag in soup.find_all('p'):\n",
    "    print(tag.sourceline, tag.sourcepos, tag.string)"
   ]
  },
  {
   "cell_type": "code",
   "execution_count": null,
   "id": "0e2e4dc7-de03-4faf-a21a-1277d8e252e9",
   "metadata": {},
   "outputs": [],
   "source": []
  }
 ],
 "metadata": {
  "kernelspec": {
   "display_name": "Python 3 (ipykernel)",
   "language": "python",
   "name": "python3"
  },
  "language_info": {
   "codemirror_mode": {
    "name": "ipython",
    "version": 3
   },
   "file_extension": ".py",
   "mimetype": "text/x-python",
   "name": "python",
   "nbconvert_exporter": "python",
   "pygments_lexer": "ipython3",
   "version": "3.9.10"
  }
 },
 "nbformat": 4,
 "nbformat_minor": 5
}
